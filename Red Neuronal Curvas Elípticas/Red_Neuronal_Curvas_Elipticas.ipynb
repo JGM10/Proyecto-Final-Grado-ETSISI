{
  "nbformat": 4,
  "nbformat_minor": 0,
  "metadata": {
    "colab": {
      "name": "Red Neuronal Curvas Elipticas.ipynb",
      "provenance": [],
      "collapsed_sections": []
    },
    "kernelspec": {
      "name": "python3",
      "display_name": "Python 3"
    },
    "language_info": {
      "name": "python"
    }
  },
  "cells": [
    {
      "cell_type": "markdown",
      "metadata": {
        "id": "wn5-cW-2iIPD"
      },
      "source": [
        "# **RED NEURONAL CLAVES CURVAS ELIPTICAS**"
      ]
    },
    {
      "cell_type": "code",
      "metadata": {
        "id": "NbYRlnAf7GHM"
      },
      "source": [
        "!git clone https://github.com/lc6chang/ecc-pycrypto.git"
      ],
      "execution_count": null,
      "outputs": []
    },
    {
      "cell_type": "code",
      "metadata": {
        "id": "2xxKuLik9zz2"
      },
      "source": [
        "!pip install /content/ecc-pycrypto/."
      ],
      "execution_count": null,
      "outputs": []
    },
    {
      "cell_type": "code",
      "metadata": {
        "id": "5VRbrO2LNhvf"
      },
      "source": [
        "from keras.models import Sequential,Model\n",
        "from keras.layers import SimpleRNN, Input, Dense\n",
        "import numpy as np\n",
        "import matplotlib.pyplot as plt \n",
        "from keras.losses import sparse_categorical_crossentropy\n",
        "from sklearn.model_selection import GridSearchCV\n",
        "from keras.wrappers.scikit_learn import KerasClassifier\n",
        "import string\n",
        "import random\n",
        "import hashlib\n",
        "\n",
        "from ecc.curve import Curve25519\n",
        "from ecc.key import gen_keypair\n",
        "from ecc.cipher import ElGamal\n",
        "\n",
        "# Parametros configuración inicial\n",
        "word_size = 6 # tamaño cadenas\n",
        "hash = \"sha1\" # \"sha256\"\n",
        "\n",
        "# Declaración de parámetros\n",
        "nn = [256*2,300,500,300,256]\n",
        "X_train = []\n",
        "Y_train = []\n",
        "X_test = []\n",
        "Y_test = []\n",
        "X = []\n",
        "Y = []\n",
        "\n",
        "pub_train, pri_train = generate_keys(10000)\n",
        "pub_test, pri_test = generate_keys(1000)"
      ],
      "execution_count": null,
      "outputs": []
    },
    {
      "cell_type": "code",
      "metadata": {
        "id": "gtzT1xEDjrv7"
      },
      "source": [
        "def crearModelo(loss='poisson',activation='relu', unit1=500, unit2=750,optimizer='RMSprop'):\n",
        "\n",
        "  # Definir modelo    \n",
        "  model = Sequential()\n",
        "\n",
        "  # Capas\n",
        "  model.add(Dense(nn[4], input_dim=512))\n",
        "  model.add(Dense(unit1, activation='relu'))\n",
        "  model.add(Dense(unit2, activation='relu'))\n",
        "  model.add(Dense(unit1, activation='relu'))\n",
        "  model.add(Dense(nn[4], activation=activation))\n",
        "\n",
        "  # Compilar modelo\n",
        "  model.compile(loss='binary_crossentropy', optimizer=optimizer, metrics=['accuracy'])\n",
        "\n",
        "  return model"
      ],
      "execution_count": null,
      "outputs": []
    },
    {
      "cell_type": "code",
      "metadata": {
        "id": "34hbTHYv44yd"
      },
      "source": [
        "model = crearModelo()\n",
        "\n",
        "snn = model.fit(pub_train, pri_train, epochs=120, batch_size=400)\n",
        "\n",
        "scores = model.evaluate(pub_test, pri_test)   \n",
        "print(\"%s: %.2f%%\" % (model.metrics_names[1], scores[1]*100))\n",
        "\n",
        "\n",
        "pred = model.predict(pub_test, batch_size=400, verbose=1)  \n",
        "print(pred) "
      ],
      "execution_count": null,
      "outputs": []
    },
    {
      "cell_type": "code",
      "metadata": {
        "id": "PChgper_ihgV"
      },
      "source": [
        "def generate_keys (number_keys):\n",
        "  pub_keys = np.zeros((number_keys,512))\n",
        "  pri_keys = np.zeros((number_keys,256))\n",
        "  for x in range(number_keys):\n",
        "    pri, pub = gen_keypair(Curve25519)\n",
        "    y=255\n",
        "    while pub.x != 0:\n",
        "      pub_keys[x][y]= pub.x % 2\n",
        "      pub.x //= 2\n",
        "      y-=1\n",
        "    y=511\n",
        "    while pub.y != 0:\n",
        "      pub_keys[x][y]= pub.y % 2\n",
        "      pub.y //= 2\n",
        "      y-=1\n",
        "    y=255\n",
        "    while pri != 0:\n",
        "      pri_keys[x][y]= pri % 2\n",
        "      pri //= 2\n",
        "      y-=1\n",
        "  return pub_keys, pri_keys\n",
        "  "
      ],
      "execution_count": null,
      "outputs": []
    }
  ]
}