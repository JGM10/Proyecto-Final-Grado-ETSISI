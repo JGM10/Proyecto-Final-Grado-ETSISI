{
  "nbformat": 4,
  "nbformat_minor": 0,
  "metadata": {
    "colab": {
      "name": "OPT Red Neuronal Curvas Elipticas.ipynb",
      "provenance": [],
      "collapsed_sections": []
    },
    "kernelspec": {
      "name": "python3",
      "display_name": "Python 3"
    },
    "language_info": {
      "name": "python"
    }
  },
  "cells": [
    {
      "cell_type": "markdown",
      "metadata": {
        "id": "wn5-cW-2iIPD"
      },
      "source": [
        "# **RED NEURONAL CURVAS ELIPTICAS. BÚSQUEDA PARÁMETROS ÓPTIMOS**"
      ]
    },
    {
      "cell_type": "code",
      "metadata": {
        "id": "NbYRlnAf7GHM"
      },
      "source": [
        "!git clone https://github.com/lc6chang/ecc-pycrypto.git"
      ],
      "execution_count": null,
      "outputs": []
    },
    {
      "cell_type": "code",
      "metadata": {
        "id": "2xxKuLik9zz2"
      },
      "source": [
        "!pip install /content/ecc-pycrypto/."
      ],
      "execution_count": null,
      "outputs": []
    },
    {
      "cell_type": "code",
      "metadata": {
        "id": "5VRbrO2LNhvf"
      },
      "source": [
        "from keras.models import Sequential,Model\n",
        "from keras.layers import SimpleRNN, Input, Dense\n",
        "import numpy as np\n",
        "import matplotlib.pyplot as plt \n",
        "from keras.losses import sparse_categorical_crossentropy\n",
        "from sklearn.model_selection import GridSearchCV\n",
        "from keras.wrappers.scikit_learn import KerasClassifier\n",
        "import string\n",
        "import random\n",
        "import hashlib\n",
        "\n",
        "from ecc.curve import Curve25519\n",
        "from ecc.key import gen_keypair\n",
        "from ecc.cipher import ElGamal\n",
        "\n",
        "# Parametros configuración inicial\n",
        "word_size = 6 # tamaño cadenas\n",
        "hash = \"sha1\" # \"sha256\"\n",
        "\n",
        "# Declaración de parámetros\n",
        "nn = [256*2,300,500,300,256]\n",
        "X_train = []\n",
        "Y_train = []\n",
        "X_test = []\n",
        "Y_test = []\n",
        "X = []\n",
        "Y = []\n",
        "\n",
        "pub_train, pri_train = generate_keys(10000)\n",
        "pub_test, pri_test = generate_keys(1000)"
      ],
      "execution_count": null,
      "outputs": []
    },
    {
      "cell_type": "code",
      "metadata": {
        "id": "gtzT1xEDjrv7"
      },
      "source": [
        "def crearModelo(loss='poisson',activation='relu', unit1=500, unit2=750,optimizer='RMSprop'):\n",
        "\n",
        "  # Definir modelo    \n",
        "  model = Sequential()\n",
        "\n",
        "  # Capas\n",
        "  model.add(Dense(nn[4], input_dim=512))\n",
        "  model.add(Dense(unit1, activation))\n",
        "  model.add(Dense(unit2, activation))\n",
        "  model.add(Dense(unit1, activation))\n",
        "  model.add(Dense(nn[4], activation))\n",
        "\n",
        "  # Compilar modelo\n",
        "  model.compile(loss='binary_crossentropy', optimizer=optimizer, metrics=['accuracy'])\n",
        "\n",
        "  return model"
      ],
      "execution_count": null,
      "outputs": []
    },
    {
      "cell_type": "code",
      "metadata": {
        "id": "2VhyqoUWiOB_"
      },
      "source": [
        "batch_size = [300,500]\n",
        "epochs = [300, 500]\n",
        "optimizer = ['SGD', 'RMSprop', 'Adagrad', 'Adadelta', 'Adam', 'Adamax', 'Nadam']\n",
        "loss = ['binary_crossentropy','categorical_crossentropy']\n",
        "activation = ['relu','sigmoid','softmax']\n",
        "dense = [1,2]\n",
        "unit1 = [500,750]\n",
        "unit2 = [750]"
      ],
      "execution_count": null,
      "outputs": []
    },
    {
      "cell_type": "code",
      "metadata": {
        "id": "mmZcMlwmCiDc"
      },
      "source": [
        "model = KerasClassifier(build_fn=crearModelo, epochs=100, batch_size=10, verbose=0)\n",
        "\n",
        "param_grid = dict(batch_size=batch_size, epochs=epochs, optimizer=optimizer, unit1=unit1, unit2=unit2, loss=loss, activation=activation)\n",
        "grid = GridSearchCV(estimator=model, param_grid=param_grid, n_jobs=-1, cv=3)\n",
        "\n",
        "grid_result = grid.fit(pub_train, pri_train)\n",
        "# summarize results\n",
        "print(\"Best: %f using %s\" % (grid_result.best_score_, grid_result.best_params_))\n",
        "means = grid_result.cv_results_['mean_test_score']\n",
        "stds = grid_result.cv_results_['std_test_score']\n",
        "params = grid_result.cv_results_['params']\n",
        "for mean, stdev, param in zip(means, stds, params):\n",
        "    print(\"%f (%f) with: %r\" % (mean, stdev, param))"
      ],
      "execution_count": null,
      "outputs": []
    },
    {
      "cell_type": "code",
      "metadata": {
        "id": "zfnjQYMPDqyn"
      },
      "source": [
        "# summarize results\n",
        "print(\"Best: %f using %s\" % (grid_result.best_score_, grid_result.best_params_))\n",
        "means = grid_result.cv_results_['mean_test_score']\n",
        "stds = grid_result.cv_results_['std_test_score']\n",
        "params = grid_result.cv_results_['params']\n",
        "for mean, stdev, param in zip(means, stds, params):\n",
        "    print(\"%f (%f) with: %r\" % (mean, stdev, param))"
      ],
      "execution_count": null,
      "outputs": []
    },
    {
      "cell_type": "code",
      "metadata": {
        "id": "PChgper_ihgV"
      },
      "source": [
        "def generate_keys (number_keys):\n",
        "  pub_keys = np.zeros((number_keys,512))\n",
        "  pri_keys = np.zeros((number_keys,256))\n",
        "  for x in range(number_keys):\n",
        "    pri, pub = gen_keypair(Curve25519)\n",
        "    y=255\n",
        "    while pub.x != 0:\n",
        "      pub_keys[x][y]= pub.x % 2\n",
        "      pub.x //= 2\n",
        "      y-=1\n",
        "    y=511\n",
        "    while pub.y != 0:\n",
        "      pub_keys[x][y]= pub.y % 2\n",
        "      pub.y //= 2\n",
        "      y-=1\n",
        "    y=255\n",
        "    while pri != 0:\n",
        "      pri_keys[x][y]= pri % 2\n",
        "      pri //= 2\n",
        "      y-=1\n",
        "  return pub_keys, pri_keys\n",
        "  "
      ],
      "execution_count": null,
      "outputs": []
    }
  ]
}