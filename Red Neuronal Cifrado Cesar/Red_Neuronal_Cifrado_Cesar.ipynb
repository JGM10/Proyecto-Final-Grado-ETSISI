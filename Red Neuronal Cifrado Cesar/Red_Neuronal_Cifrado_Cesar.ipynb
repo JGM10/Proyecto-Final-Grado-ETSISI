{
  "nbformat": 4,
  "nbformat_minor": 0,
  "metadata": {
    "colab": {
      "name": "Red Neuronal Cifrado Cesar.ipynb",
      "provenance": [],
      "collapsed_sections": [
        "gXY_THYCC4z1"
      ]
    },
    "kernelspec": {
      "name": "python3",
      "display_name": "Python 3"
    },
    "language_info": {
      "name": "python"
    }
  },
  "cells": [
    {
      "cell_type": "markdown",
      "metadata": {
        "id": "wn5-cW-2iIPD"
      },
      "source": [
        "# **RED NEURONAL CIFRADO CESAR TAMAÑO AJUSTABLE**"
      ]
    },
    {
      "cell_type": "code",
      "metadata": {
        "id": "pTn36TjoHzm5"
      },
      "source": [
        "from keras.models import Sequential,Model\n",
        "from keras.layers import SimpleRNN, Input, Dense\n",
        "import numpy as np\n",
        "import matplotlib.pyplot as plt \n",
        "from keras.losses import sparse_categorical_crossentropy\n",
        "from sklearn.model_selection import GridSearchCV\n",
        "from keras.wrappers.scikit_learn import KerasClassifier\n",
        "import string\n",
        "import random\n",
        "\n",
        "# Parametros configuración inicial\n",
        "word_size = 3 # tamaño cadenas\n",
        "shift = 3 # Desplazamiento letra (cifrado)\n",
        "\n",
        "# Declaración de parámetros\n",
        "nn = [120,80,120,80,26*word_size]\n",
        "X_train = []\n",
        "Y_train = []\n",
        "X_test = []\n",
        "Y_test = []\n",
        "X = []\n",
        "Y = []\n",
        "\n",
        "# Generar el dataset de entrenamiento\n",
        "X, Y = generate_words(10000,0,X)\n",
        "X_train = wordToNumber(X)\n",
        "Y_train = wordToNumber(Y)\n",
        "\n",
        "# Generar el dataset de test (datos nuevos, no usados en el entrenamiento)\n",
        "X, Y = generate_words(1000,1,X)\n",
        "X_test = wordToNumber(X)\n",
        "Y_test = wordToNumber(Y)"
      ],
      "execution_count": null,
      "outputs": []
    },
    {
      "cell_type": "code",
      "metadata": {
        "id": "gtzT1xEDjrv7"
      },
      "source": [
        "def crearModelo(loss='poisson',activation='relu', unit1=120, unit2=80,optimizer='RMSprop'):\n",
        "\n",
        "  # Definir modelo    \n",
        "  model = Sequential()\n",
        "\n",
        "  # Capas\n",
        "  model.add(Dense(nn[4], input_dim=(26*word_size)))\n",
        "  model.add(Dense(unit1, activation='relu'))\n",
        "  model.add(Dense(unit2, activation='relu'))\n",
        "  model.add(Dense(unit1, activation='relu'))\n",
        "  model.add(Dense(nn[4], activation=activation))\n",
        "\n",
        "  # Compilar modelo\n",
        "  model.compile(loss='binary_crossentropy', optimizer=optimizer, metrics=['accuracy'])\n",
        "\n",
        "  return model"
      ],
      "execution_count": null,
      "outputs": []
    },
    {
      "cell_type": "code",
      "metadata": {
        "id": "34hbTHYv44yd"
      },
      "source": [
        "model = crearModelo()\n",
        "\n",
        "print(np.shape(X_train))\n",
        "\n",
        "snn = model.fit(X_train, Y_train, epochs=120, batch_size=400)\n",
        "\n",
        "scores = model.evaluate(X_test, Y_test)   \n",
        "print(\"%s: %.2f%%\" % (model.metrics_names[1], scores[1]*100))\n",
        "\n",
        "\n",
        "pred = model.predict(X_test, batch_size=15, verbose=1)  \n",
        "print(pred) \n"
      ],
      "execution_count": null,
      "outputs": []
    },
    {
      "cell_type": "code",
      "metadata": {
        "id": "ReAwDiTFhi4g"
      },
      "source": [
        "print(numberToWord(Y_test))\n",
        "print(numberToWord(pred))\n",
        "print(\"------\")\n",
        "\n",
        "print(\"\\n\\n*************************************************\")\n",
        "print(\"El modelo acierta el \" + str(precisionDescifrado(numberToWord(pred),numberToWord(Y_test))) + \"% de palabras\")\n",
        "print(\"*************************************************\")\n",
        "\n",
        "print(\"\\n*************************************************\")\n",
        "print(\"El modelo acierta el \" + str(precisionDescifrado_letras(numberToWord(pred),numberToWord(Y_test))) + \"% de letras\")\n",
        "print(\"*************************************************\")  \n",
        "\n",
        "\n",
        "print(\"\\n\\n*************************************************\") \n",
        "print(\"PRUEBA - RESULTADO: javier\")\n",
        "resul = model.predict(wordToNumber(encrypted([\"javier\"])), batch_size=20, verbose=1)  \n",
        "print(numberToWord(resul)) #RESULTADO: javier\n",
        "print(\"*************************************************\") "
      ],
      "execution_count": null,
      "outputs": []
    },
    {
      "cell_type": "code",
      "metadata": {
        "id": "w-A3BEQ3XfPf"
      },
      "source": [
        "def generate_words (number_words,test,X_train):\n",
        "  words = []\n",
        "\n",
        "  if(test == 0):\n",
        "    for x in range(number_words):\n",
        "      words.append(''.join(random.SystemRandom().choice(string.ascii_letters).lower() for _ in range(word_size)))\n",
        "  else:\n",
        "    for x in range(number_words):\n",
        "      repeated = 1\n",
        "      while(repeated == 1):\n",
        "        word = (''.join(random.SystemRandom().choice(string.ascii_letters).lower() for _ in range(word_size)))\n",
        "        if(word not in X_train):\n",
        "          words.append(word)\n",
        "          repeated = 0\n",
        "\n",
        "  encrypted_words = []\n",
        "\n",
        "  for word in words:\n",
        "    cadena = \"\"\n",
        "    for x in range(0,word_size):\n",
        "      cadena += chr((((ord(word[x]) - 97) + shift) % 26) + 97)\n",
        "    encrypted_words.append(cadena)\n",
        "\n",
        "  return encrypted_words, words"
      ],
      "execution_count": null,
      "outputs": []
    },
    {
      "cell_type": "code",
      "metadata": {
        "id": "VREwvpqige6M"
      },
      "source": [
        "def encrypted(words):\n",
        "  encrypted_words = []\n",
        "\n",
        "  for word in words:\n",
        "    cadena = \"\"\n",
        "    for x in range(0,word_size):\n",
        "      cadena += chr((((ord(word[x]) - 97) + shift) % 26) + 97)\n",
        "    encrypted_words.append(cadena)\n",
        "  \n",
        "  return encrypted_words"
      ],
      "execution_count": null,
      "outputs": []
    },
    {
      "cell_type": "code",
      "metadata": {
        "id": "fYajFQSpIGzJ"
      },
      "source": [
        "\n",
        "def wordToNumber(words):\n",
        "\n",
        "    word_id = {'a': 0, 'b': 1, 'c': 2, 'd': 3, 'e': 4, 'f': 5, 'g': 6, 'h': 7, 'i': 8, 'j': 9,'k': 10, 'l': 11, 'm': 12, 'n': 13, 'o': 14,'p': 15, 'q': 16, 'r': 17, 's': 18, 't': 19,'u': 20, 'v': 21, 'w': 22, 'x': 23, 'y': 24, 'z': 25}\n",
        "    lista = []\n",
        "    x = 0\n",
        "    one_hot_encoding = np.zeros((len(words),len(word_id)*word_size))\n",
        "    for word in words:  \n",
        "      for i in range(0,word_size):\n",
        "        one_hot_encoding[x][word_id[word[i]]+(26*i)] = 1\n",
        "      x+=1\n",
        "    return one_hot_encoding\n"
      ],
      "execution_count": null,
      "outputs": []
    },
    {
      "cell_type": "code",
      "metadata": {
        "id": "bE_PFMLWIFj5"
      },
      "source": [
        "def numberToWord(numbers):\n",
        "\n",
        "    word_id = {0: 'a', 1: 'b', 2: 'c', 3: 'd', 4: 'e', 5: 'f', 6: 'g', 7: 'h', 8: 'i', 9: 'j',10: 'k', 11: 'l', 12: 'm', 13: 'n', 14: 'o', 15: 'p', 16: 'q', 17: 'r', 18: 's', 19: 't', 20: 'u', 21: 'v', 22: 'w', 23: 'x', 24: 'y', 25: 'z'}\n",
        "    words = []\n",
        "\n",
        "    for number in numbers:\n",
        "      cadena = \"\"\n",
        "      for i in range(0,word_size):\n",
        "        car = '-'\n",
        "        for x in range(0,len(word_id)):\n",
        "          if(number[x+(i*26)] > 0):\n",
        "            car =  word_id[x]\n",
        "        cadena += car\n",
        "      words.append(cadena)\n",
        "    return words\n",
        "        \n"
      ],
      "execution_count": null,
      "outputs": []
    },
    {
      "cell_type": "code",
      "metadata": {
        "id": "uvSc8F3MdCIj"
      },
      "source": [
        "def precisionDescifrado(pred, Y_test):\n",
        "\n",
        "  cont = 0\n",
        "\n",
        "  for x in range(0,len(pred)):\n",
        "    if(pred[x] == Y_test[x]):\n",
        "      cont+=1\n",
        "\n",
        "  return (cont / len(pred) * 100)\n",
        " "
      ],
      "execution_count": null,
      "outputs": []
    },
    {
      "cell_type": "code",
      "metadata": {
        "id": "p_Dc-KMNdCIk"
      },
      "source": [
        "def precisionDescifrado_letras(pred, Y_test):\n",
        "\n",
        "  cont = 0\n",
        "\n",
        "  for x in range(0,len(pred)):\n",
        "    a = pred[x]\n",
        "    b = Y_test[x]\n",
        "    for i in range(0,word_size):\n",
        "      if(a[i] == b[i]):\n",
        "        cont+=1\n",
        "\n",
        "  return (cont / (word_size*len(pred)) * 100)"
      ],
      "execution_count": null,
      "outputs": []
    }
  ]
}